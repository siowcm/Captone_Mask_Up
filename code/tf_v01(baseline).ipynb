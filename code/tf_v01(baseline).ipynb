{
 "cells": [
  {
   "cell_type": "markdown",
   "metadata": {
    "id": "tyoQxlhDgvbS"
   },
   "source": [
    "[![Open In Colab](https://colab.research.google.com/assets/colab-badge.svg)](https://colab.research.google.com/)\n"
   ]
  },
  {
   "cell_type": "markdown",
   "metadata": {
    "id": "_FPnKL_6Dc2D"
   },
   "source": [
    "# Capstone Project: Mask Wearing Detector\n",
    "---\n"
   ]
  },
  {
   "cell_type": "markdown",
   "metadata": {
    "id": "jL4bDN99D8GV"
   },
   "source": [
    "## Table of Contents\n",
    "\n",
    "1. Preprocessing\n",
    "2. Modelling\n",
    "---"
   ]
  },
  {
   "cell_type": "code",
   "execution_count": 1,
   "metadata": {
    "id": "kVolq05990cm"
   },
   "outputs": [],
   "source": [
    "#import libraries\n",
    "from google.colab import drive\n",
    "import os\n",
    "import cv2\n",
    "import glob\n",
    "\n",
    "import numpy as np\n",
    "import pandas as pd\n",
    "import matplotlib.pyplot as plt\n",
    "import seaborn as sns\n",
    "from sklearn.model_selection import train_test_split\n",
    "\n",
    "import tensorflow as tf\n",
    "from keras.preprocessing.image import (\n",
    "    ImageDataGenerator,\n",
    "    img_to_array,\n",
    "    load_img,\n",
    ")\n",
    "import keras"
   ]
  },
  {
   "cell_type": "code",
   "execution_count": 2,
   "metadata": {
    "colab": {
     "base_uri": "https://localhost:8080/"
    },
    "id": "GHBKDO8VPZHu",
    "outputId": "35bd2f67-d377-4c43-d0de-e98841d28c45"
   },
   "outputs": [
    {
     "name": "stdout",
     "output_type": "stream",
     "text": [
      "Tensorflow Version: 2.7.0\n",
      "/device:GPU:0\n",
      "Num GPUs Available:  1\n"
     ]
    }
   ],
   "source": [
    "#check for tensorflow version and GPU availability\n",
    "print(\"Tensorflow Version: {}\".format(tf.__version__))\n",
    "print(tf.test.gpu_device_name())\n",
    "print(\n",
    "    \"Num GPUs Available: \",\n",
    "    len(tf.config.experimental.list_physical_devices(\"GPU\")),\n",
    ")"
   ]
  },
  {
   "cell_type": "code",
   "execution_count": 3,
   "metadata": {
    "colab": {
     "base_uri": "https://localhost:8080/"
    },
    "id": "99VTW74qfec3",
    "outputId": "1967e205-bd57-4ce3-9c56-3a0b3f65c2d8"
   },
   "outputs": [
    {
     "name": "stdout",
     "output_type": "stream",
     "text": [
      "Cloning into 'capstone'...\n",
      "remote: Enumerating objects: 5805, done.\u001b[K\n",
      "remote: Counting objects: 100% (15/15), done.\u001b[K\n",
      "remote: Compressing objects: 100% (8/8), done.\u001b[K\n",
      "remote: Total 5805 (delta 3), reused 15 (delta 3), pack-reused 5790\u001b[K\n",
      "Receiving objects: 100% (5805/5805), 418.35 MiB | 25.05 MiB/s, done.\n",
      "Resolving deltas: 100% (851/851), done.\n",
      "Checking out files: 100% (5788/5788), done.\n",
      "git clone completed\n"
     ]
    }
   ],
   "source": [
    "#import data\n",
    "!git clone https://github.com/siowcm/capstone.git\n",
    "print('git clone completed')"
   ]
  },
  {
   "cell_type": "code",
   "execution_count": 4,
   "metadata": {
    "id": "5mmnsBpehaeM"
   },
   "outputs": [],
   "source": [
    "# define path\n",
    "IMGS_PATH = \"capstone/input_data/images/\"\n",
    "ANNOT_PATH = \"capstone/input_data/annotations/\"\n",
    "CROPPED_PATH = \"capstone/output_data/cropped_images/\"\n",
    "CSV_PATH = \"capstone/output_data/csv/\""
   ]
  },
  {
   "cell_type": "code",
   "execution_count": 5,
   "metadata": {
    "colab": {
     "base_uri": "https://localhost:8080/",
     "height": 206
    },
    "id": "OLb5wHpwD6bU",
    "outputId": "3c0dfc3f-ff26-4130-fab4-8bac66473e1b"
   },
   "outputs": [
    {
     "data": {
      "text/html": [
       "\n",
       "  <div id=\"df-9b1b66a8-f6b4-41ed-b750-b0d512783ac8\">\n",
       "    <div class=\"colab-df-container\">\n",
       "      <div>\n",
       "<style scoped>\n",
       "    .dataframe tbody tr th:only-of-type {\n",
       "        vertical-align: middle;\n",
       "    }\n",
       "\n",
       "    .dataframe tbody tr th {\n",
       "        vertical-align: top;\n",
       "    }\n",
       "\n",
       "    .dataframe thead th {\n",
       "        text-align: right;\n",
       "    }\n",
       "</style>\n",
       "<table border=\"1\" class=\"dataframe\">\n",
       "  <thead>\n",
       "    <tr style=\"text-align: right;\">\n",
       "      <th></th>\n",
       "      <th>xmin</th>\n",
       "      <th>ymin</th>\n",
       "      <th>xmax</th>\n",
       "      <th>ymax</th>\n",
       "      <th>label</th>\n",
       "      <th>width</th>\n",
       "      <th>height</th>\n",
       "      <th>images</th>\n",
       "      <th>annotation</th>\n",
       "      <th>cropped_images</th>\n",
       "    </tr>\n",
       "  </thead>\n",
       "  <tbody>\n",
       "    <tr>\n",
       "      <th>0</th>\n",
       "      <td>185</td>\n",
       "      <td>100</td>\n",
       "      <td>226</td>\n",
       "      <td>144</td>\n",
       "      <td>with_mask</td>\n",
       "      <td>512</td>\n",
       "      <td>366</td>\n",
       "      <td>maksssksksss0.png</td>\n",
       "      <td>maksssksksss0.xml</td>\n",
       "      <td>maksssksksss0-0.png</td>\n",
       "    </tr>\n",
       "    <tr>\n",
       "      <th>1</th>\n",
       "      <td>79</td>\n",
       "      <td>105</td>\n",
       "      <td>109</td>\n",
       "      <td>142</td>\n",
       "      <td>without_mask</td>\n",
       "      <td>512</td>\n",
       "      <td>366</td>\n",
       "      <td>maksssksksss0.png</td>\n",
       "      <td>maksssksksss0.xml</td>\n",
       "      <td>maksssksksss0-1.png</td>\n",
       "    </tr>\n",
       "    <tr>\n",
       "      <th>2</th>\n",
       "      <td>325</td>\n",
       "      <td>90</td>\n",
       "      <td>360</td>\n",
       "      <td>141</td>\n",
       "      <td>without_mask</td>\n",
       "      <td>512</td>\n",
       "      <td>366</td>\n",
       "      <td>maksssksksss0.png</td>\n",
       "      <td>maksssksksss0.xml</td>\n",
       "      <td>maksssksksss0-2.png</td>\n",
       "    </tr>\n",
       "    <tr>\n",
       "      <th>3</th>\n",
       "      <td>369</td>\n",
       "      <td>70</td>\n",
       "      <td>398</td>\n",
       "      <td>99</td>\n",
       "      <td>with_mask</td>\n",
       "      <td>400</td>\n",
       "      <td>156</td>\n",
       "      <td>maksssksksss1.png</td>\n",
       "      <td>maksssksksss1.xml</td>\n",
       "      <td>maksssksksss1-3.png</td>\n",
       "    </tr>\n",
       "    <tr>\n",
       "      <th>4</th>\n",
       "      <td>21</td>\n",
       "      <td>73</td>\n",
       "      <td>44</td>\n",
       "      <td>93</td>\n",
       "      <td>with_mask</td>\n",
       "      <td>400</td>\n",
       "      <td>156</td>\n",
       "      <td>maksssksksss1.png</td>\n",
       "      <td>maksssksksss1.xml</td>\n",
       "      <td>maksssksksss1-4.png</td>\n",
       "    </tr>\n",
       "  </tbody>\n",
       "</table>\n",
       "</div>\n",
       "      <button class=\"colab-df-convert\" onclick=\"convertToInteractive('df-9b1b66a8-f6b4-41ed-b750-b0d512783ac8')\"\n",
       "              title=\"Convert this dataframe to an interactive table.\"\n",
       "              style=\"display:none;\">\n",
       "        \n",
       "  <svg xmlns=\"http://www.w3.org/2000/svg\" height=\"24px\"viewBox=\"0 0 24 24\"\n",
       "       width=\"24px\">\n",
       "    <path d=\"M0 0h24v24H0V0z\" fill=\"none\"/>\n",
       "    <path d=\"M18.56 5.44l.94 2.06.94-2.06 2.06-.94-2.06-.94-.94-2.06-.94 2.06-2.06.94zm-11 1L8.5 8.5l.94-2.06 2.06-.94-2.06-.94L8.5 2.5l-.94 2.06-2.06.94zm10 10l.94 2.06.94-2.06 2.06-.94-2.06-.94-.94-2.06-.94 2.06-2.06.94z\"/><path d=\"M17.41 7.96l-1.37-1.37c-.4-.4-.92-.59-1.43-.59-.52 0-1.04.2-1.43.59L10.3 9.45l-7.72 7.72c-.78.78-.78 2.05 0 2.83L4 21.41c.39.39.9.59 1.41.59.51 0 1.02-.2 1.41-.59l7.78-7.78 2.81-2.81c.8-.78.8-2.07 0-2.86zM5.41 20L4 18.59l7.72-7.72 1.47 1.35L5.41 20z\"/>\n",
       "  </svg>\n",
       "      </button>\n",
       "      \n",
       "  <style>\n",
       "    .colab-df-container {\n",
       "      display:flex;\n",
       "      flex-wrap:wrap;\n",
       "      gap: 12px;\n",
       "    }\n",
       "\n",
       "    .colab-df-convert {\n",
       "      background-color: #E8F0FE;\n",
       "      border: none;\n",
       "      border-radius: 50%;\n",
       "      cursor: pointer;\n",
       "      display: none;\n",
       "      fill: #1967D2;\n",
       "      height: 32px;\n",
       "      padding: 0 0 0 0;\n",
       "      width: 32px;\n",
       "    }\n",
       "\n",
       "    .colab-df-convert:hover {\n",
       "      background-color: #E2EBFA;\n",
       "      box-shadow: 0px 1px 2px rgba(60, 64, 67, 0.3), 0px 1px 3px 1px rgba(60, 64, 67, 0.15);\n",
       "      fill: #174EA6;\n",
       "    }\n",
       "\n",
       "    [theme=dark] .colab-df-convert {\n",
       "      background-color: #3B4455;\n",
       "      fill: #D2E3FC;\n",
       "    }\n",
       "\n",
       "    [theme=dark] .colab-df-convert:hover {\n",
       "      background-color: #434B5C;\n",
       "      box-shadow: 0px 1px 3px 1px rgba(0, 0, 0, 0.15);\n",
       "      filter: drop-shadow(0px 1px 2px rgba(0, 0, 0, 0.3));\n",
       "      fill: #FFFFFF;\n",
       "    }\n",
       "  </style>\n",
       "\n",
       "      <script>\n",
       "        const buttonEl =\n",
       "          document.querySelector('#df-9b1b66a8-f6b4-41ed-b750-b0d512783ac8 button.colab-df-convert');\n",
       "        buttonEl.style.display =\n",
       "          google.colab.kernel.accessAllowed ? 'block' : 'none';\n",
       "\n",
       "        async function convertToInteractive(key) {\n",
       "          const element = document.querySelector('#df-9b1b66a8-f6b4-41ed-b750-b0d512783ac8');\n",
       "          const dataTable =\n",
       "            await google.colab.kernel.invokeFunction('convertToInteractive',\n",
       "                                                     [key], {});\n",
       "          if (!dataTable) return;\n",
       "\n",
       "          const docLinkHtml = 'Like what you see? Visit the ' +\n",
       "            '<a target=\"_blank\" href=https://colab.research.google.com/notebooks/data_table.ipynb>data table notebook</a>'\n",
       "            + ' to learn more about interactive tables.';\n",
       "          element.innerHTML = '';\n",
       "          dataTable['output_type'] = 'display_data';\n",
       "          await google.colab.output.renderOutput(dataTable, element);\n",
       "          const docLink = document.createElement('div');\n",
       "          docLink.innerHTML = docLinkHtml;\n",
       "          element.appendChild(docLink);\n",
       "        }\n",
       "      </script>\n",
       "    </div>\n",
       "  </div>\n",
       "  "
      ],
      "text/plain": [
       "   xmin  ymin  xmax  ...             images         annotation       cropped_images\n",
       "0   185   100   226  ...  maksssksksss0.png  maksssksksss0.xml  maksssksksss0-0.png\n",
       "1    79   105   109  ...  maksssksksss0.png  maksssksksss0.xml  maksssksksss0-1.png\n",
       "2   325    90   360  ...  maksssksksss0.png  maksssksksss0.xml  maksssksksss0-2.png\n",
       "3   369    70   398  ...  maksssksksss1.png  maksssksksss1.xml  maksssksksss1-3.png\n",
       "4    21    73    44  ...  maksssksksss1.png  maksssksksss1.xml  maksssksksss1-4.png\n",
       "\n",
       "[5 rows x 10 columns]"
      ]
     },
     "execution_count": 5,
     "metadata": {},
     "output_type": "execute_result"
    }
   ],
   "source": [
    "#import csv as dataframe\n",
    "df = pd.read_csv(CSV_PATH+'mask.csv')\n",
    "df.head()"
   ]
  },
  {
   "cell_type": "code",
   "execution_count": 8,
   "metadata": {
    "id": "FL-vpNhOD6YT"
   },
   "outputs": [],
   "source": [
    "# create training and testing data\n",
    "df_train, df_test = train_test_split(df, train_size=0.8, random_state=42, stratify=df['label'])"
   ]
  },
  {
   "cell_type": "code",
   "execution_count": 9,
   "metadata": {
    "colab": {
     "base_uri": "https://localhost:8080/"
    },
    "id": "i1cicoCgig7j",
    "outputId": "d0a4c5de-fadf-4c39-d0f5-ac39b81e7db5"
   },
   "outputs": [
    {
     "name": "stdout",
     "output_type": "stream",
     "text": [
      "Shape of training df: (3257, 10)\n",
      "Shape of testing df: (815, 10)\n"
     ]
    }
   ],
   "source": [
    "# check the shape of training and testing data\n",
    "print(f'Shape of training df: {df_train.shape}')\n",
    "print(f'Shape of testing df: {df_test.shape}')"
   ]
  },
  {
   "cell_type": "code",
   "execution_count": 10,
   "metadata": {
    "id": "lOmPShqh-LWH"
   },
   "outputs": [],
   "source": [
    "# train_image_generator = ImageDataGenerator(\n",
    "#     rotation_range=40,\n",
    "#     width_shift_range=0.2,\n",
    "#     height_shift_range=0.2,\n",
    "#     rescale=1./255,\n",
    "#     shear_range=0.2,\n",
    "#     zoom_range=0.2,\n",
    "#     horizontal_flip=True,\n",
    "#     fill_mode='nearest',\n",
    "#     validation_split = 0.2\n",
    "# )"
   ]
  },
  {
   "cell_type": "code",
   "execution_count": 11,
   "metadata": {
    "id": "mxAGPI05k67B"
   },
   "outputs": [],
   "source": [
    "train_image_generator = ImageDataGenerator(\n",
    "    rescale=1./255,\n",
    "    validation_split = 0.2\n",
    ")"
   ]
  },
  {
   "cell_type": "code",
   "execution_count": 12,
   "metadata": {
    "colab": {
     "base_uri": "https://localhost:8080/"
    },
    "id": "UJcF6uHV-LNb",
    "outputId": "cc2d89c3-f80b-44e9-efdc-8aa22398c1da"
   },
   "outputs": [
    {
     "name": "stdout",
     "output_type": "stream",
     "text": [
      "Found 2606 validated image filenames belonging to 3 classes.\n",
      "Found 651 validated image filenames belonging to 3 classes.\n"
     ]
    }
   ],
   "source": [
    "train_generator = train_image_generator.flow_from_dataframe(\n",
    "    dataframe = df_train,\n",
    "    directory = CROPPED_PATH,\n",
    "    x_col = 'cropped_images',\n",
    "    y_col = 'label',\n",
    "    subset = 'training',\n",
    "    batch_size = 32,\n",
    "    seed = 42,\n",
    "    shuffle = True,\n",
    "    class_mode = 'categorical',\n",
    "    target_size = (24,24)#default tuple of integers (height, width), default: (256, 256). The dimensions to which all images found will be resized.\n",
    ")\n",
    "\n",
    "valid_generator = train_image_generator.flow_from_dataframe(\n",
    "    dataframe = df_train,\n",
    "    directory = CROPPED_PATH,\n",
    "    x_col = 'cropped_images',\n",
    "    y_col = 'label',\n",
    "    subset = 'validation',\n",
    "    batch_size = 32,\n",
    "    seed = 42,\n",
    "    shuffle = True,\n",
    "    class_mode = 'categorical',\n",
    "    target_size = (24,24) #image_target_size\n",
    ")"
   ]
  },
  {
   "cell_type": "code",
   "execution_count": 13,
   "metadata": {
    "colab": {
     "base_uri": "https://localhost:8080/"
    },
    "id": "LX9k-2PGMNHQ",
    "outputId": "66bee6c6-9fdf-4ef9-aa31-8d1c337f5f80"
   },
   "outputs": [
    {
     "name": "stdout",
     "output_type": "stream",
     "text": [
      "Found 815 validated image filenames belonging to 3 classes.\n"
     ]
    }
   ],
   "source": [
    "test_image_generator = ImageDataGenerator(\n",
    "    rescale=1./255,\n",
    ")\n",
    "\n",
    "test_generator = train_image_generator.flow_from_dataframe(\n",
    "    dataframe = df_test,\n",
    "    directory = CROPPED_PATH,\n",
    "    x_col = 'cropped_images',\n",
    "    y_col = 'label',\n",
    "    batch_size = 32,\n",
    "    seed = 42,\n",
    "    shuffle = True,\n",
    "    class_mode = 'categorical',\n",
    "    target_size = (24,24) #image_target_size\n",
    ")"
   ]
  },
  {
   "cell_type": "code",
   "execution_count": 14,
   "metadata": {
    "id": "jxHUqlgFMNEc"
   },
   "outputs": [],
   "source": [
    "model_1 = keras.models.Sequential([\n",
    "    keras.layers.Conv2D(filters = 10, kernel_size = 3, activation = 'relu', \n",
    "                        input_shape = (24, 24, 3)),\n",
    "    keras.layers.Conv2D(filters = 10, kernel_size = 3, activation = 'relu'),\n",
    "    keras.layers.MaxPool2D(pool_size = 2, padding = 'valid'),\n",
    "    keras.layers.Conv2D(filters = 10, kernel_size = 3, activation = 'relu'),\n",
    "    keras.layers.Conv2D(filters = 10, kernel_size = 3, activation = 'relu'),\n",
    "    keras.layers.MaxPool2D(pool_size = 2, padding = 'valid'),\n",
    "    keras.layers.Flatten(),\n",
    "    keras.layers.Dense(units = 3, activation = 'softmax')\n",
    "])"
   ]
  },
  {
   "cell_type": "code",
   "execution_count": 15,
   "metadata": {
    "colab": {
     "base_uri": "https://localhost:8080/"
    },
    "id": "lKNoB4wlNtz3",
    "outputId": "f0598697-719f-47a3-8c14-1ef7c7ebafdb"
   },
   "outputs": [
    {
     "name": "stdout",
     "output_type": "stream",
     "text": [
      "Epoch 1/10\n",
      "82/82 [==============================] - 12s 30ms/step - loss: 0.6311 - accuracy: 0.7744 - recall: 0.6650 - val_loss: 0.5698 - val_accuracy: 0.7819 - val_recall: 0.7680\n",
      "Epoch 2/10\n",
      "82/82 [==============================] - 2s 23ms/step - loss: 0.4304 - accuracy: 0.7989 - recall: 0.7851 - val_loss: 0.3479 - val_accuracy: 0.8111 - val_recall: 0.7757\n",
      "Epoch 3/10\n",
      "82/82 [==============================] - 2s 22ms/step - loss: 0.2751 - accuracy: 0.9060 - recall: 0.8830 - val_loss: 0.2291 - val_accuracy: 0.9324 - val_recall: 0.9309\n",
      "Epoch 4/10\n",
      "82/82 [==============================] - 2s 23ms/step - loss: 0.2219 - accuracy: 0.9279 - recall: 0.9236 - val_loss: 0.2025 - val_accuracy: 0.9386 - val_recall: 0.9370\n",
      "Epoch 5/10\n",
      "82/82 [==============================] - 2s 23ms/step - loss: 0.2121 - accuracy: 0.9336 - recall: 0.9290 - val_loss: 0.1952 - val_accuracy: 0.9370 - val_recall: 0.9339\n",
      "Epoch 6/10\n",
      "82/82 [==============================] - 2s 23ms/step - loss: 0.2046 - accuracy: 0.9325 - recall: 0.9279 - val_loss: 0.1957 - val_accuracy: 0.9339 - val_recall: 0.9324\n",
      "Epoch 7/10\n",
      "82/82 [==============================] - 2s 23ms/step - loss: 0.2004 - accuracy: 0.9321 - recall: 0.9290 - val_loss: 0.1832 - val_accuracy: 0.9432 - val_recall: 0.9416\n",
      "Epoch 8/10\n",
      "82/82 [==============================] - 2s 22ms/step - loss: 0.1947 - accuracy: 0.9359 - recall: 0.9317 - val_loss: 0.1797 - val_accuracy: 0.9478 - val_recall: 0.9462\n",
      "Epoch 9/10\n",
      "82/82 [==============================] - 2s 27ms/step - loss: 0.1876 - accuracy: 0.9405 - recall: 0.9363 - val_loss: 0.2007 - val_accuracy: 0.9309 - val_recall: 0.9278\n",
      "Epoch 10/10\n",
      "82/82 [==============================] - 4s 46ms/step - loss: 0.1833 - accuracy: 0.9394 - recall: 0.9363 - val_loss: 0.1780 - val_accuracy: 0.9462 - val_recall: 0.9447\n"
     ]
    }
   ],
   "source": [
    "model_1.compile(\n",
    "    loss = 'categorical_crossentropy',\n",
    "    optimizer = 'adam',\n",
    "    metrics = ['accuracy', keras.metrics.Recall()]\n",
    ")\n",
    "\n",
    "history_1 = model_1.fit(\n",
    "    train_generator,\n",
    "    epochs = 10,\n",
    "    steps_per_epoch = len(train_generator),\n",
    "    validation_data = valid_generator, \n",
    "    validation_steps = len(valid_generator)\n",
    ")"
   ]
  },
  {
   "cell_type": "code",
   "execution_count": 15,
   "metadata": {
    "id": "k4-pHuVtNtxi"
   },
   "outputs": [],
   "source": []
  },
  {
   "cell_type": "code",
   "execution_count": 16,
   "metadata": {
    "colab": {
     "base_uri": "https://localhost:8080/",
     "height": 363
    },
    "id": "wflsqQ9UNtvC",
    "outputId": "4e934561-4c4c-4ebe-8cba-05868ab840cb"
   },
   "outputs": [
    {
     "data": {
      "text/html": [
       "\n",
       "  <div id=\"df-0c191e5d-28c7-4e95-9456-386b16fa9607\">\n",
       "    <div class=\"colab-df-container\">\n",
       "      <div>\n",
       "<style scoped>\n",
       "    .dataframe tbody tr th:only-of-type {\n",
       "        vertical-align: middle;\n",
       "    }\n",
       "\n",
       "    .dataframe tbody tr th {\n",
       "        vertical-align: top;\n",
       "    }\n",
       "\n",
       "    .dataframe thead th {\n",
       "        text-align: right;\n",
       "    }\n",
       "</style>\n",
       "<table border=\"1\" class=\"dataframe\">\n",
       "  <thead>\n",
       "    <tr style=\"text-align: right;\">\n",
       "      <th></th>\n",
       "      <th>loss</th>\n",
       "      <th>accuracy</th>\n",
       "      <th>recall</th>\n",
       "      <th>val_loss</th>\n",
       "      <th>val_accuracy</th>\n",
       "      <th>val_recall</th>\n",
       "    </tr>\n",
       "  </thead>\n",
       "  <tbody>\n",
       "    <tr>\n",
       "      <th>0</th>\n",
       "      <td>0.631125</td>\n",
       "      <td>0.774367</td>\n",
       "      <td>0.665004</td>\n",
       "      <td>0.569828</td>\n",
       "      <td>0.781874</td>\n",
       "      <td>0.768049</td>\n",
       "    </tr>\n",
       "    <tr>\n",
       "      <th>1</th>\n",
       "      <td>0.430393</td>\n",
       "      <td>0.798926</td>\n",
       "      <td>0.785111</td>\n",
       "      <td>0.347863</td>\n",
       "      <td>0.811060</td>\n",
       "      <td>0.775730</td>\n",
       "    </tr>\n",
       "    <tr>\n",
       "      <th>2</th>\n",
       "      <td>0.275146</td>\n",
       "      <td>0.905986</td>\n",
       "      <td>0.882962</td>\n",
       "      <td>0.229116</td>\n",
       "      <td>0.932412</td>\n",
       "      <td>0.930876</td>\n",
       "    </tr>\n",
       "    <tr>\n",
       "      <th>3</th>\n",
       "      <td>0.221913</td>\n",
       "      <td>0.927859</td>\n",
       "      <td>0.923638</td>\n",
       "      <td>0.202545</td>\n",
       "      <td>0.938556</td>\n",
       "      <td>0.937020</td>\n",
       "    </tr>\n",
       "    <tr>\n",
       "      <th>4</th>\n",
       "      <td>0.212075</td>\n",
       "      <td>0.933615</td>\n",
       "      <td>0.929010</td>\n",
       "      <td>0.195238</td>\n",
       "      <td>0.937020</td>\n",
       "      <td>0.933948</td>\n",
       "    </tr>\n",
       "    <tr>\n",
       "      <th>5</th>\n",
       "      <td>0.204578</td>\n",
       "      <td>0.932464</td>\n",
       "      <td>0.927859</td>\n",
       "      <td>0.195710</td>\n",
       "      <td>0.933948</td>\n",
       "      <td>0.932412</td>\n",
       "    </tr>\n",
       "    <tr>\n",
       "      <th>6</th>\n",
       "      <td>0.200439</td>\n",
       "      <td>0.932080</td>\n",
       "      <td>0.929010</td>\n",
       "      <td>0.183198</td>\n",
       "      <td>0.943164</td>\n",
       "      <td>0.941628</td>\n",
       "    </tr>\n",
       "    <tr>\n",
       "      <th>7</th>\n",
       "      <td>0.194716</td>\n",
       "      <td>0.935917</td>\n",
       "      <td>0.931696</td>\n",
       "      <td>0.179705</td>\n",
       "      <td>0.947773</td>\n",
       "      <td>0.946237</td>\n",
       "    </tr>\n",
       "    <tr>\n",
       "      <th>8</th>\n",
       "      <td>0.187563</td>\n",
       "      <td>0.940522</td>\n",
       "      <td>0.936301</td>\n",
       "      <td>0.200737</td>\n",
       "      <td>0.930876</td>\n",
       "      <td>0.927803</td>\n",
       "    </tr>\n",
       "    <tr>\n",
       "      <th>9</th>\n",
       "      <td>0.183349</td>\n",
       "      <td>0.939371</td>\n",
       "      <td>0.936301</td>\n",
       "      <td>0.177957</td>\n",
       "      <td>0.946237</td>\n",
       "      <td>0.944700</td>\n",
       "    </tr>\n",
       "  </tbody>\n",
       "</table>\n",
       "</div>\n",
       "      <button class=\"colab-df-convert\" onclick=\"convertToInteractive('df-0c191e5d-28c7-4e95-9456-386b16fa9607')\"\n",
       "              title=\"Convert this dataframe to an interactive table.\"\n",
       "              style=\"display:none;\">\n",
       "        \n",
       "  <svg xmlns=\"http://www.w3.org/2000/svg\" height=\"24px\"viewBox=\"0 0 24 24\"\n",
       "       width=\"24px\">\n",
       "    <path d=\"M0 0h24v24H0V0z\" fill=\"none\"/>\n",
       "    <path d=\"M18.56 5.44l.94 2.06.94-2.06 2.06-.94-2.06-.94-.94-2.06-.94 2.06-2.06.94zm-11 1L8.5 8.5l.94-2.06 2.06-.94-2.06-.94L8.5 2.5l-.94 2.06-2.06.94zm10 10l.94 2.06.94-2.06 2.06-.94-2.06-.94-.94-2.06-.94 2.06-2.06.94z\"/><path d=\"M17.41 7.96l-1.37-1.37c-.4-.4-.92-.59-1.43-.59-.52 0-1.04.2-1.43.59L10.3 9.45l-7.72 7.72c-.78.78-.78 2.05 0 2.83L4 21.41c.39.39.9.59 1.41.59.51 0 1.02-.2 1.41-.59l7.78-7.78 2.81-2.81c.8-.78.8-2.07 0-2.86zM5.41 20L4 18.59l7.72-7.72 1.47 1.35L5.41 20z\"/>\n",
       "  </svg>\n",
       "      </button>\n",
       "      \n",
       "  <style>\n",
       "    .colab-df-container {\n",
       "      display:flex;\n",
       "      flex-wrap:wrap;\n",
       "      gap: 12px;\n",
       "    }\n",
       "\n",
       "    .colab-df-convert {\n",
       "      background-color: #E8F0FE;\n",
       "      border: none;\n",
       "      border-radius: 50%;\n",
       "      cursor: pointer;\n",
       "      display: none;\n",
       "      fill: #1967D2;\n",
       "      height: 32px;\n",
       "      padding: 0 0 0 0;\n",
       "      width: 32px;\n",
       "    }\n",
       "\n",
       "    .colab-df-convert:hover {\n",
       "      background-color: #E2EBFA;\n",
       "      box-shadow: 0px 1px 2px rgba(60, 64, 67, 0.3), 0px 1px 3px 1px rgba(60, 64, 67, 0.15);\n",
       "      fill: #174EA6;\n",
       "    }\n",
       "\n",
       "    [theme=dark] .colab-df-convert {\n",
       "      background-color: #3B4455;\n",
       "      fill: #D2E3FC;\n",
       "    }\n",
       "\n",
       "    [theme=dark] .colab-df-convert:hover {\n",
       "      background-color: #434B5C;\n",
       "      box-shadow: 0px 1px 3px 1px rgba(0, 0, 0, 0.15);\n",
       "      filter: drop-shadow(0px 1px 2px rgba(0, 0, 0, 0.3));\n",
       "      fill: #FFFFFF;\n",
       "    }\n",
       "  </style>\n",
       "\n",
       "      <script>\n",
       "        const buttonEl =\n",
       "          document.querySelector('#df-0c191e5d-28c7-4e95-9456-386b16fa9607 button.colab-df-convert');\n",
       "        buttonEl.style.display =\n",
       "          google.colab.kernel.accessAllowed ? 'block' : 'none';\n",
       "\n",
       "        async function convertToInteractive(key) {\n",
       "          const element = document.querySelector('#df-0c191e5d-28c7-4e95-9456-386b16fa9607');\n",
       "          const dataTable =\n",
       "            await google.colab.kernel.invokeFunction('convertToInteractive',\n",
       "                                                     [key], {});\n",
       "          if (!dataTable) return;\n",
       "\n",
       "          const docLinkHtml = 'Like what you see? Visit the ' +\n",
       "            '<a target=\"_blank\" href=https://colab.research.google.com/notebooks/data_table.ipynb>data table notebook</a>'\n",
       "            + ' to learn more about interactive tables.';\n",
       "          element.innerHTML = '';\n",
       "          dataTable['output_type'] = 'display_data';\n",
       "          await google.colab.output.renderOutput(dataTable, element);\n",
       "          const docLink = document.createElement('div');\n",
       "          docLink.innerHTML = docLinkHtml;\n",
       "          element.appendChild(docLink);\n",
       "        }\n",
       "      </script>\n",
       "    </div>\n",
       "  </div>\n",
       "  "
      ],
      "text/plain": [
       "       loss  accuracy    recall  val_loss  val_accuracy  val_recall\n",
       "0  0.631125  0.774367  0.665004  0.569828      0.781874    0.768049\n",
       "1  0.430393  0.798926  0.785111  0.347863      0.811060    0.775730\n",
       "2  0.275146  0.905986  0.882962  0.229116      0.932412    0.930876\n",
       "3  0.221913  0.927859  0.923638  0.202545      0.938556    0.937020\n",
       "4  0.212075  0.933615  0.929010  0.195238      0.937020    0.933948\n",
       "5  0.204578  0.932464  0.927859  0.195710      0.933948    0.932412\n",
       "6  0.200439  0.932080  0.929010  0.183198      0.943164    0.941628\n",
       "7  0.194716  0.935917  0.931696  0.179705      0.947773    0.946237\n",
       "8  0.187563  0.940522  0.936301  0.200737      0.930876    0.927803\n",
       "9  0.183349  0.939371  0.936301  0.177957      0.946237    0.944700"
      ]
     },
     "execution_count": 16,
     "metadata": {},
     "output_type": "execute_result"
    }
   ],
   "source": [
    "result_1 = pd.DataFrame(history_1.history)\n",
    "result_1"
   ]
  },
  {
   "cell_type": "code",
   "execution_count": 17,
   "metadata": {
    "colab": {
     "base_uri": "https://localhost:8080/",
     "height": 282
    },
    "id": "MMdQvDFrNtsY",
    "outputId": "bf299a51-3939-4205-e595-c382c5cc4df3"
   },
   "outputs": [
    {
     "data": {
      "text/plain": [
       "<matplotlib.axes._subplots.AxesSubplot at 0x7fe60ce20b10>"
      ]
     },
     "execution_count": 17,
     "metadata": {},
     "output_type": "execute_result"
    },
    {
     "data": {
      "image/png": "[encoded data removed]",
      "text/plain": [
       "<Figure size 432x288 with 1 Axes>"
      ]
     },
     "metadata": {
      "needs_background": "light"
     },
     "output_type": "display_data"
    }
   ],
   "source": [
    "result_1.plot()"
   ]
  },
  {
   "cell_type": "code",
   "execution_count": 18,
   "metadata": {
    "id": "s7MimFcBNtpY"
   },
   "outputs": [],
   "source": [
    "def plot_line(result, ax, col, title, train_column, valid_column):\n",
    "    # Line Plot of Model Performance\n",
    "    ax[col].plot(result[train_column])\n",
    "    ax[col].plot(result[valid_column])\n",
    "    \n",
    "    # Title and Legend\n",
    "    ax[col].set_title(title, fontweight = 'bold')\n",
    "    ax[col].legend(['Train', 'Validation'])\n",
    "    \n",
    "def plot_result(result, train_recall, valid_recall):\n",
    "    # Create a 1x3 Grid and Set Main Title\n",
    "    fig, ax = plt.subplots(nrows = 1, ncols = 3, figsize = (17, 8))\n",
    "    fig.suptitle('Model Performance', fontsize = 20, fontweight = 'bold')\n",
    "    \n",
    "    # Visualization of Accuracy, Recall, and Loss\n",
    "    plot_line(result, ax, 0, 'Accuracy', 'accuracy', 'val_accuracy')\n",
    "    plot_line(result, ax, 1, 'Recall', train_recall, valid_recall)\n",
    "    plot_line(result, ax, 2, 'Loss', 'loss', 'val_loss')\n",
    "    plt.show()"
   ]
  },
  {
   "cell_type": "code",
   "execution_count": 19,
   "metadata": {
    "colab": {
     "base_uri": "https://localhost:8080/",
     "height": 540
    },
    "id": "fiHJ9g7mPlQr",
    "outputId": "e5c4fa85-bf95-4da0-92a4-6ed0236909ab"
   },
   "outputs": [
    {
     "data": {
      "image/png": "[encoded data removed]",
      "text/plain": [
       "<Figure size 1224x576 with 3 Axes>"
      ]
     },
     "metadata": {
      "needs_background": "light"
     },
     "output_type": "display_data"
    }
   ],
   "source": [
    "plot_result(result_1, 'recall', 'val_recall')"
   ]
  },
  {
   "cell_type": "code",
   "execution_count": 20,
   "metadata": {
    "colab": {
     "base_uri": "https://localhost:8080/",
     "height": 236
    },
    "id": "QUKPwCCQmeZX",
    "outputId": "21d75b29-dc0f-42a4-b971-c70cfd6a907f"
   },
   "outputs": [
    {
     "ename": "NameError",
     "evalue": "ignored",
     "output_type": "error",
     "traceback": [
      "\u001b[0;31m---------------------------------------------------------------------------\u001b[0m",
      "\u001b[0;31mNameError\u001b[0m                                 Traceback (most recent call last)",
      "\u001b[0;32m<ipython-input-20-ab4bd3c15f65>\u001b[0m in \u001b[0;36m<module>\u001b[0;34m()\u001b[0m\n\u001b[1;32m      1\u001b[0m model_2 = keras.models.Sequential([\n\u001b[0;32m----> 2\u001b[0;31m     \u001b[0mkeras\u001b[0m\u001b[0;34m.\u001b[0m\u001b[0mlayers\u001b[0m\u001b[0;34m.\u001b[0m\u001b[0mConv2D\u001b[0m\u001b[0;34m(\u001b[0m\u001b[0mfilters\u001b[0m \u001b[0;34m=\u001b[0m \u001b[0;36m10\u001b[0m\u001b[0;34m,\u001b[0m \u001b[0mkernel_size\u001b[0m \u001b[0;34m=\u001b[0m \u001b[0;36m3\u001b[0m\u001b[0;34m,\u001b[0m \u001b[0mactivation\u001b[0m \u001b[0;34m=\u001b[0m \u001b[0;34m'relu'\u001b[0m\u001b[0;34m,\u001b[0m \u001b[0minput_shape\u001b[0m \u001b[0;34m=\u001b[0m \u001b[0minput_shape\u001b[0m\u001b[0;34m)\u001b[0m\u001b[0;34m,\u001b[0m\u001b[0;34m\u001b[0m\u001b[0;34m\u001b[0m\u001b[0m\n\u001b[0m\u001b[1;32m      3\u001b[0m     \u001b[0mkeras\u001b[0m\u001b[0;34m.\u001b[0m\u001b[0mlayers\u001b[0m\u001b[0;34m.\u001b[0m\u001b[0mConv2D\u001b[0m\u001b[0;34m(\u001b[0m\u001b[0mfilters\u001b[0m \u001b[0;34m=\u001b[0m \u001b[0;36m10\u001b[0m\u001b[0;34m,\u001b[0m \u001b[0mkernel_size\u001b[0m \u001b[0;34m=\u001b[0m \u001b[0;36m3\u001b[0m\u001b[0;34m,\u001b[0m \u001b[0mactivation\u001b[0m \u001b[0;34m=\u001b[0m \u001b[0;34m'relu'\u001b[0m\u001b[0;34m)\u001b[0m\u001b[0;34m,\u001b[0m\u001b[0;34m\u001b[0m\u001b[0;34m\u001b[0m\u001b[0m\n\u001b[1;32m      4\u001b[0m     \u001b[0mkeras\u001b[0m\u001b[0;34m.\u001b[0m\u001b[0mlayers\u001b[0m\u001b[0;34m.\u001b[0m\u001b[0mMaxPool2D\u001b[0m\u001b[0;34m(\u001b[0m\u001b[0mpool_size\u001b[0m \u001b[0;34m=\u001b[0m \u001b[0;36m2\u001b[0m\u001b[0;34m,\u001b[0m \u001b[0mpadding\u001b[0m \u001b[0;34m=\u001b[0m \u001b[0;34m'valid'\u001b[0m\u001b[0;34m)\u001b[0m\u001b[0;34m,\u001b[0m\u001b[0;34m\u001b[0m\u001b[0;34m\u001b[0m\u001b[0m\n\u001b[1;32m      5\u001b[0m     \u001b[0mkeras\u001b[0m\u001b[0;34m.\u001b[0m\u001b[0mlayers\u001b[0m\u001b[0;34m.\u001b[0m\u001b[0mConv2D\u001b[0m\u001b[0;34m(\u001b[0m\u001b[0mfilters\u001b[0m \u001b[0;34m=\u001b[0m \u001b[0;36m10\u001b[0m\u001b[0;34m,\u001b[0m \u001b[0mkernel_size\u001b[0m \u001b[0;34m=\u001b[0m \u001b[0;36m3\u001b[0m\u001b[0;34m,\u001b[0m \u001b[0mactivation\u001b[0m \u001b[0;34m=\u001b[0m \u001b[0;34m'relu'\u001b[0m\u001b[0;34m)\u001b[0m\u001b[0;34m,\u001b[0m\u001b[0;34m\u001b[0m\u001b[0;34m\u001b[0m\u001b[0m\n",
      "\u001b[0;31mNameError\u001b[0m: name 'input_shape' is not defined"
     ]
    }
   ],
   "source": [
    "model_2 = keras.models.Sequential([\n",
    "    keras.layers.Conv2D(filters = 10, kernel_size = 3, activation = 'relu', input_shape = input_shape),\n",
    "    keras.layers.Conv2D(filters = 10, kernel_size = 3, activation = 'relu'),\n",
    "    keras.layers.MaxPool2D(pool_size = 2, padding = 'valid'),\n",
    "    keras.layers.Conv2D(filters = 10, kernel_size = 3, activation = 'relu'),\n",
    "    keras.layers.Conv2D(filters = 10, kernel_size = 3, activation = 'relu'),\n",
    "    keras.layers.MaxPool2D(pool_size = 2, padding = 'valid'),\n",
    "    keras.layers.Flatten(),\n",
    "    keras.layers.Dense(units = len(classes), activation = 'softmax')\n",
    "])"
   ]
  },
  {
   "cell_type": "code",
   "execution_count": null,
   "metadata": {
    "id": "wKams0_ymeWy"
   },
   "outputs": [],
   "source": [
    "model_2.compile(loss = 'categorical_crossentropy',\n",
    "                optimizer = keras.optimizers.Adam(),\n",
    "                metrics = ['accuracy', keras.metrics.Recall()])\n",
    "\n",
    "callbacks = [keras.callbacks.EarlyStopping()]\n",
    "\n",
    "history_2 = model_2.fit(train_generator, epochs = 100, steps_per_epoch = len(train_generator), \n",
    "                        validation_data = valid_generator, validation_steps = len(valid_generator),\n",
    "                        callbacks = callbacks)"
   ]
  },
  {
   "cell_type": "code",
   "execution_count": null,
   "metadata": {
    "id": "EUNMCn2dmeT0"
   },
   "outputs": [],
   "source": [
    "result_2 = pd.DataFrame(history_2.history)\n",
    "result_2"
   ]
  },
  {
   "cell_type": "code",
   "execution_count": null,
   "metadata": {
    "id": "tIGd1jnTmeRB"
   },
   "outputs": [],
   "source": [
    "result_2.plot()"
   ]
  },
  {
   "cell_type": "code",
   "execution_count": null,
   "metadata": {
    "id": "CYRbfzsAmeMt"
   },
   "outputs": [],
   "source": [
    "plot_result(result_2, 'recall_1', 'val_recall_1')"
   ]
  },
  {
   "cell_type": "code",
   "execution_count": null,
   "metadata": {
    "id": "PfJckcYdmeJk"
   },
   "outputs": [],
   "source": []
  },
  {
   "cell_type": "code",
   "execution_count": null,
   "metadata": {
    "id": "i9A3rDfJPlNl"
   },
   "outputs": [],
   "source": [
    "# model_1.save('/content/gdrive/MyDrive/capstone_data/model')"
   ]
  },
  {
   "cell_type": "code",
   "execution_count": null,
   "metadata": {
    "id": "79mftHfwPlKx"
   },
   "outputs": [],
   "source": [
    "model_1.summary()"
   ]
  },
  {
   "cell_type": "code",
   "execution_count": null,
   "metadata": {
    "id": "1veTW7VGPlIM"
   },
   "outputs": [],
   "source": []
  },
  {
   "cell_type": "markdown",
   "metadata": {
    "id": "h13Ob-XCV1vb"
   },
   "source": [
    "# CHECK categorical_crossentropy\n",
    " "
   ]
  },
  {
   "cell_type": "code",
   "execution_count": null,
   "metadata": {
    "id": "wu1gXbFYMNBp"
   },
   "outputs": [],
   "source": [
    "input_shape = "
   ]
  },
  {
   "cell_type": "code",
   "execution_count": null,
   "metadata": {
    "id": "PQhyO0-2-LKp"
   },
   "outputs": [],
   "source": [
    "train_df"
   ]
  },
  {
   "cell_type": "code",
   "execution_count": null,
   "metadata": {
    "id": "d25GFTbW-LHz"
   },
   "outputs": [],
   "source": [
    "test_df"
   ]
  },
  {
   "cell_type": "code",
   "execution_count": null,
   "metadata": {
    "id": "pdw7N1HV-LE-"
   },
   "outputs": [],
   "source": []
  },
  {
   "cell_type": "code",
   "execution_count": null,
   "metadata": {
    "id": "Xy-8DTdt-LB7"
   },
   "outputs": [],
   "source": []
  },
  {
   "cell_type": "code",
   "execution_count": null,
   "metadata": {
    "id": "xP3F4gVD-K_Y"
   },
   "outputs": [],
   "source": []
  },
  {
   "cell_type": "code",
   "execution_count": null,
   "metadata": {
    "id": "wiMtaVpA-K8j"
   },
   "outputs": [],
   "source": []
  },
  {
   "cell_type": "code",
   "execution_count": null,
   "metadata": {
    "id": "qi6u3y_e-Kx4"
   },
   "outputs": [],
   "source": []
  }
 ],
 "metadata": {
  "accelerator": "GPU",
  "colab": {
   "collapsed_sections": [],
   "name": "tf_v01(baseline).ipynb",
   "provenance": []
  },
  "kernelspec": {
   "display_name": "Python 3 (ipykernel)",
   "language": "python",
   "name": "python3"
  },
  "language_info": {
   "codemirror_mode": {
    "name": "ipython",
    "version": 3
   },
   "file_extension": ".py",
   "mimetype": "text/x-python",
   "name": "python",
   "nbconvert_exporter": "python",
   "pygments_lexer": "ipython3",
   "version": "3.8.12"
  }
 },
 "nbformat": 4,
 "nbformat_minor": 4
}
