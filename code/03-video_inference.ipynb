{
 "cells": [
  {
   "cell_type": "markdown",
   "id": "8a3ebdc4-8039-4495-84b3-631dce11f955",
   "metadata": {},
   "source": [
    "# Capstone Project: Mask Up\n",
    "\n",
    "---\n",
    "## Table of Contents\n",
    "\n",
    "1. Inference on Video\n",
    "2. Conclusion\n",
    "\n",
    "---"
   ]
  },
  {
   "cell_type": "markdown",
   "id": "d6ad0ff3-bdf0-4e33-a1a2-88ec8be8d659",
   "metadata": {},
   "source": [
    "## Inference on Video\n",
    "\n",
    "In this section, I will use the trained weights and applied it on a video format. I have selected a news clip from [CNA](https://www.youtube.com/watch?v=uXbpwLE-jqc&ab_channel=CNA). \n",
    "\n",
    "![inference_on_news.gif](../assets/inference_on_news.gif)\n",
    "\n",
    "The inference result from the video is a good a the detection of a person wearing a mask is largely accurate."
   ]
  },
  {
   "cell_type": "code",
   "execution_count": 1,
   "id": "9157a105-2b76-48d4-b423-1ae86896b488",
   "metadata": {
    "execution": {
     "iopub.execute_input": "2022-03-01T22:50:00.912534Z",
     "iopub.status.busy": "2022-03-01T22:50:00.912319Z",
     "iopub.status.idle": "2022-03-01T22:50:03.683464Z",
     "shell.execute_reply": "2022-03-01T22:50:03.683157Z",
     "shell.execute_reply.started": "2022-03-01T22:50:00.912473Z"
    }
   },
   "outputs": [
    {
     "name": "stdout",
     "output_type": "stream",
     "text": [
      "Cloning into 'yolov5'...\n",
      "remote: Enumerating objects: 11142, done.\u001b[K\n",
      "remote: Total 11142 (delta 0), reused 0 (delta 0), pack-reused 11142\u001b[K\n",
      "Receiving objects: 100% (11142/11142), 11.14 MiB | 9.45 MiB/s, done.\n",
      "Resolving deltas: 100% (7703/7703), done.\n"
     ]
    }
   ],
   "source": [
    "#git clone yolov5 repo. (opinoinla if downloaded before)\n",
    "!git clone https://github.com/ultralytics/yolov5"
   ]
  },
  {
   "cell_type": "code",
   "execution_count": 4,
   "id": "8bcb481a-a674-453b-bf33-5ef581cf2984",
   "metadata": {
    "execution": {
     "iopub.execute_input": "2022-03-01T22:50:44.676360Z",
     "iopub.status.busy": "2022-03-01T22:50:44.676032Z",
     "iopub.status.idle": "2022-03-01T22:50:44.680142Z",
     "shell.execute_reply": "2022-03-01T22:50:44.679462Z",
     "shell.execute_reply.started": "2022-03-01T22:50:44.676324Z"
    },
    "tags": []
   },
   "outputs": [],
   "source": [
    "# parameter\n",
    "trained_weights = \"best.pt\" #path to trained weights \n",
    "conf_thres = 0.5\n",
    "source = \"https://youtu.be/uXbpwLE-jqc\"\n",
    "image_size = 320"
   ]
  },
  {
   "cell_type": "code",
   "execution_count": null,
   "id": "b356232e-ef1b-40bc-8050-d8c8265fea57",
   "metadata": {
    "scrolled": true,
    "tags": []
   },
   "outputs": [],
   "source": [
    "# inference on video\n",
    "!python yolov5/detect.py \\\n",
    "    --weights {trained_weights} \\\n",
    "    --imgsz {image_size} \\\n",
    "    --conf-thres {conf_thres} \\\n",
    "    --source {source} \\\n",
    "    --imgsz {image_size}"
   ]
  },
  {
   "cell_type": "markdown",
   "id": "1eba5393-a477-491d-b6c9-038a2d509daf",
   "metadata": {
    "execution": {
     "iopub.execute_input": "2022-03-01T22:45:56.955274Z",
     "iopub.status.busy": "2022-03-01T22:45:56.955053Z",
     "iopub.status.idle": "2022-03-01T22:45:56.959975Z",
     "shell.execute_reply": "2022-03-01T22:45:56.959552Z",
     "shell.execute_reply.started": "2022-03-01T22:45:56.955250Z"
    },
    "tags": []
   },
   "source": [
    "## Conclusion\n",
    "\n",
    "This project demonstrated the the possibility of using computer to identify if a person is wearing mask. For the next step, the project can be further be improved to include a counter in order to measure the number of people identified that are wearing or not wearing mask."
   ]
  },
  {
   "cell_type": "code",
   "execution_count": null,
   "id": "f8051585-7a01-44b3-b658-82ea8626ab99",
   "metadata": {},
   "outputs": [],
   "source": []
  }
 ],
 "metadata": {
  "kernelspec": {
   "display_name": "Python 3.9 (tensorflow)",
   "language": "python",
   "name": "tensorflow"
  },
  "language_info": {
   "codemirror_mode": {
    "name": "ipython",
    "version": 3
   },
   "file_extension": ".py",
   "mimetype": "text/x-python",
   "name": "python",
   "nbconvert_exporter": "python",
   "pygments_lexer": "ipython3",
   "version": "3.9.10"
  }
 },
 "nbformat": 4,
 "nbformat_minor": 5
}
